{
 "cells": [
  {
   "cell_type": "markdown",
   "metadata": {},
   "source": [
    "# Práctica 0 – MasterMind\n",
    "\n",
    "En este _notebook_ irás implementando el juego [MasterMind](https://en.wikipedia.org/wiki/Mastermind_(board_game)) a partir de fragmentos de código que iremos presentando. El objetivo es practicar las construcciones básicas del lenguaje Swift."
   ]
  },
  {
   "cell_type": "markdown",
   "metadata": {},
   "source": [
    "## Funcionamiento"
   ]
  },
  {
   "cell_type": "markdown",
   "metadata": {},
   "source": [
    "Un jugador (que en nuestro caso será el ordenador) crea una clave secreta seleccionando 4 fichas de color de entre un conjunto de fichas de 6 colores diferentes. Se admiten repeticiones: es válida una clave en que las 4 fichas sean de color rojo, por ejemplo. Hay otras variantes en las que hay más colores, o la clave consta de más fichas, o no se permiten repeticiones, etc; pero la más habitual es la que hemos descrito.\n",
    "\n",
    "Otro jugador (un humano, en nuestro caso) debe adivinar la clave en un número máximo de intentos. Para ello, el juego progresa del siguiente modo:\n",
    "* El jugador que debe adivinar la clave indica una combinación de colores.\n",
    "* El ordenador indica los siguientes datos:\n",
    "  - Cuántos de los colores indicados coinciden con los de la clave, en el mismo orden. Este será el numero de **aciertos**.\n",
    "  - Cuántos de los colores indicados aparecen en la clave, pero en distinto orden. A este número le llamaremos de **semiaciertos**.\n",
    "* Con esta información, el jugador elige otra combinación hasta que adivina la clave o se alcanza el número máximo de turnos.\n",
    "\n",
    "Por ejemplo, dada la clave secreta 🔴🟡⚪🔴, la combinación 🔴🟡🔴🟡 tendría\n",
    "* Dos aciertos: las dos primeras fichas coinciden.\n",
    "* Un semiacierto: la tercera ficha de la combinación adivinada está en la clave, pero en otra posición.\n",
    "\n",
    "Observa cómo las fichas que coinciden con exactitud se excluyen del cómputo de los semiaciertos. La cuarta ficha de la combinación propuesta, que es amarilla, no se considera un semiacierto, pues no aparece en ninguna de las otras dos fichas de la clave."
   ]
  },
  {
   "cell_type": "markdown",
   "metadata": {},
   "source": [
    "Para que te hagas una idea del programa que vamos a escribir, la siguiente imagen muestra un ejemplo de ejecución de una partida completa una vez terminada la implementación correctamente.\n",
    "\n",
    "![mastermind_game](img/mastermind-game.png \"Partida de MasterMind\")"
   ]
  },
  {
   "cell_type": "markdown",
   "metadata": {},
   "source": [
    "----"
   ]
  },
  {
   "cell_type": "markdown",
   "metadata": {},
   "source": [
    "Para comenzar, vamos a aprovechar que Swift admite trabajar con cadenas Unicode, lo que nos permite representar caracteres emoji y otros símbolos:"
   ]
  },
  {
   "cell_type": "code",
   "execution_count": 1,
   "metadata": {},
   "outputs": [
    {
     "name": "stdout",
     "output_type": "stream",
     "text": [
      "🔴🟢🟡🔵⚫⚪\r\n"
     ]
    }
   ],
   "source": [
    "print(\"🔴🟢🟡🔵⚫⚪\")"
   ]
  },
  {
   "cell_type": "markdown",
   "metadata": {},
   "source": [
    "Para representar los posibles colores del juego, vamos a utilizar el siguiente tipo enumerado:"
   ]
  },
  {
   "cell_type": "code",
   "execution_count": 2,
   "metadata": {},
   "outputs": [],
   "source": [
    "enum MasterMindColor {\n",
    "    case red\n",
    "    case green\n",
    "    case yellow\n",
    "    case blue\n",
    "    case black\n",
    "    case white\n",
    "}"
   ]
  },
  {
   "cell_type": "code",
   "execution_count": 3,
   "metadata": {},
   "outputs": [
    {
     "name": "stdout",
     "output_type": "stream",
     "text": [
      "red\r\n"
     ]
    }
   ],
   "source": [
    "print(MasterMindColor.red)"
   ]
  },
  {
   "cell_type": "markdown",
   "metadata": {},
   "source": [
    "Para que el juego sea lo más vistoso posible (dentro de las limitaciones del entorno Jupyter en el que nos encontramos), vamos a crear una propiedad que nos permita obtener la representación gráfica del color. Esto lo podemos añadir como una extensión del tipo `MasterMindColor`:"
   ]
  },
  {
   "cell_type": "code",
   "execution_count": 4,
   "metadata": {},
   "outputs": [],
   "source": [
    "extension MasterMindColor {\n",
    "    var emoji: String {\n",
    "        switch self {\n",
    "            case .red   : return \"🔴\"\n",
    "            case .green : return \"🟢\"\n",
    "            case .yellow: return \"🟡\"\n",
    "            case .blue  : return \"🔵\"\n",
    "            case .black : return \"⚫\"\n",
    "            case .white : return \"⚪\"\n",
    "        }\n",
    "    }\n",
    "}"
   ]
  },
  {
   "cell_type": "markdown",
   "metadata": {},
   "source": [
    "Esta propiedad está ahora incluida en cualquier objeto de tipo `MasterMindColor`:"
   ]
  },
  {
   "cell_type": "code",
   "execution_count": 5,
   "metadata": {},
   "outputs": [
    {
     "name": "stdout",
     "output_type": "stream",
     "text": [
      "🔴\r\n"
     ]
    }
   ],
   "source": [
    "print(MasterMindColor.red.emoji)"
   ]
  },
  {
   "cell_type": "markdown",
   "metadata": {},
   "source": [
    "Mucho más bonito que lo anterior.\n",
    "\n",
    "De igual modo, vamos a hacer una función que nos permita obtener un color de nuestro juego (es decir, un `MasterMindColor` a partir de un carácter que puede teclear el usuario. No todos los caracteres son válidos, así que nuestra función lanzará un error en caso de que le pidamos convertir un carácter que no tiene sentido:"
   ]
  },
  {
   "cell_type": "code",
   "execution_count": 6,
   "metadata": {},
   "outputs": [],
   "source": [
    "enum MasterMindError: Error {\n",
    "    case wrongCharacter    // The user supplied a wrong Character to `from`\n",
    "}\n",
    "\n",
    "extension MasterMindColor {\n",
    "    static func from(emoji: Character) throws -> MasterMindColor {        \n",
    "        switch emoji {\n",
    "            case \"🔴\": return .red\n",
    "            case \"🟢\": return .green\n",
    "            case \"🟡\": return .yellow\n",
    "            case \"🔵\": return .blue\n",
    "            case \"⚫\": return .black\n",
    "            case \"⚪\": return .white\n",
    "            default: throw MasterMindError.wrongCharacter\n",
    "        }\n",
    "    }\n",
    "}"
   ]
  },
  {
   "cell_type": "code",
   "execution_count": 7,
   "metadata": {},
   "outputs": [
    {
     "name": "stdout",
     "output_type": "stream",
     "text": [
      "green\r\n"
     ]
    }
   ],
   "source": [
    "print(MasterMindColor.from(emoji: \"🟢\"))"
   ]
  },
  {
   "cell_type": "markdown",
   "metadata": {},
   "source": [
    "----"
   ]
  },
  {
   "cell_type": "markdown",
   "metadata": {},
   "source": [
    "**Importante**: observa que la función `from(emoji:)` _no_ es una función de las instancias de `MasterMindColor`, sino una función del tipo. Esto es así porque la utilizamos para crear colores, no para transformar colores que ya hemos creado.\n",
    "\n",
    "Para añadir funciones al tipo utilizamos la palabra **`static`**. Si no la hubiéramos puesto, la función estaría dentro de los objetos de ese tipo, como en el caso de la propiedad `emoji` que hemos definido unas celdas más arriba."
   ]
  },
  {
   "cell_type": "markdown",
   "metadata": {},
   "source": [
    "----"
   ]
  },
  {
   "cell_type": "markdown",
   "metadata": {},
   "source": [
    "Ya puestos, vamos a hacer que `print` muestre también el color de forma gráfica. Para ello tenemos que adoptar el protocolo [`CustomStringConvertible`](https://developer.apple.com/documentation/swift/customstringconvertible) e implementar la propiedad `description`."
   ]
  },
  {
   "cell_type": "code",
   "execution_count": 8,
   "metadata": {},
   "outputs": [],
   "source": [
    "extension MasterMindColor: CustomStringConvertible {\n",
    "    public var description: String { return emoji }\n",
    "}"
   ]
  },
  {
   "cell_type": "code",
   "execution_count": 9,
   "metadata": {},
   "outputs": [
    {
     "name": "stdout",
     "output_type": "stream",
     "text": [
      "🟢\r\n"
     ]
    }
   ],
   "source": [
    "print(MasterMindColor.green)"
   ]
  },
  {
   "cell_type": "markdown",
   "metadata": {},
   "source": [
    "Mucho mejor."
   ]
  },
  {
   "cell_type": "markdown",
   "metadata": {},
   "source": [
    "## Ejercicio 1"
   ]
  },
  {
   "cell_type": "markdown",
   "metadata": {},
   "source": [
    "Nuestro juego va a pedir al usuario combinaciones de colores. El usuario podrá \"teclear\" los emojis correspondientes, pero es un rollo hacerlo así. Vamos a extender `MasterMindColor` con otra función que permita utilizar las letras `r, g, y, b, k, w` (`b` significa _blue_ y `k` significa _blac**k**_)."
   ]
  },
  {
   "cell_type": "markdown",
   "metadata": {},
   "source": [
    "Se pide completar el fragmento de código siguiente e implementar la función `from(letter:)`, que debe funcionar del siguiente modo:\n",
    "* Dado uno de los caracteres `r, g, y, b, k, w`, la función devolverá el color correspondiente. Por ejemplo, devolverá `.red` si la letra es la `r`.\n",
    "* Se permite escribir las letras en mayúscula o en minúscula.\n",
    "* Si la letra no es ninguna de las indicadas, `from(letter:)`, puede ser que sea uno de los emojis válidos. Para comprobarlo, `from(letter:)` invocará `from(emoji:)`, y devolverá el color correspondiente.\n",
    "* Si la letra no es ninguna de las indicadas en este enunciado ni tampoco uno de los emojis que entiende `from(emoji:)`, se lanzará el error `MasterMindError.wrongCharacter`."
   ]
  },
  {
   "cell_type": "code",
   "execution_count": 10,
   "metadata": {},
   "outputs": [],
   "source": [
    "extension MasterMindColor {\n",
    "    static func from(letter: Character) throws -> MasterMindColor {        \n",
    "        // Your code here\n",
    "    }\n",
    "}"
   ]
  },
  {
   "cell_type": "markdown",
   "metadata": {},
   "source": [
    "Las siguientes dos celdas te ayudarán a comprobar si tu implementación es correcta. Si no escriben nada, es que todo ha ido bien. Si se escribe un mensaje de error, es que algo falla. Ten en cuenta que estos _tests_ sólo prueban algunos casos, no todos. Es tu responsabilidad probar exhaustivamente."
   ]
  },
  {
   "cell_type": "code",
   "execution_count": 11,
   "metadata": {},
   "outputs": [],
   "source": [
    "do {\n",
    "    let black = try MasterMindColor.from(letter: \"K\")\n",
    "    let blue = try MasterMindColor.from(letter: \"b\")\n",
    "    if black != .black { print(\"Error al convertir 'K' al color negro.\") }\n",
    "    if blue != .blue { print(\"Error al convertir 'b' al color azul.\")}\n",
    "} catch {\n",
    "    print(\"Se ha producido una excepción incorrecta\")\n",
    "}"
   ]
  },
  {
   "cell_type": "code",
   "execution_count": 12,
   "metadata": {},
   "outputs": [],
   "source": [
    "do {\n",
    "    try MasterMindColor.from(letter: \"p\")\n",
    "    print(\"Error: la letra `p` no debería tener ningún color asociado, debería haberse lanzado una excepción.\")\n",
    "} catch {}"
   ]
  },
  {
   "cell_type": "markdown",
   "metadata": {},
   "source": [
    "----"
   ]
  },
  {
   "cell_type": "code",
   "execution_count": 13,
   "metadata": {},
   "outputs": [
    {
     "name": "stdout",
     "output_type": "stream",
     "text": [
      "⚫\r\n"
     ]
    }
   ],
   "source": [
    "print(MasterMindColor.from(letter: \"K\"))"
   ]
  },
  {
   "cell_type": "code",
   "execution_count": 14,
   "metadata": {},
   "outputs": [
    {
     "name": "stdout",
     "output_type": "stream",
     "text": [
      "🟢\r\n"
     ]
    }
   ],
   "source": [
    "print(MasterMindColor.from(letter: \"🟢\"))"
   ]
  },
  {
   "cell_type": "markdown",
   "metadata": {},
   "source": [
    "Ahora vamos a hacer otra función de apoyo que nos permita convertir un `String` con una combinación de colores, a un array `[MasterMindColor]`.\n",
    "\n",
    "Observa que lo que queremos puede obtenerse fácilmente con `map`:"
   ]
  },
  {
   "cell_type": "code",
   "execution_count": 15,
   "metadata": {},
   "outputs": [
    {
     "name": "stdout",
     "output_type": "stream",
     "text": [
      "[🔴, 🔵, 🟢, ⚫]\r\n"
     ]
    }
   ],
   "source": [
    "print(\"rbgk\".map { try MasterMindColor.from(letter: $0) })"
   ]
  },
  {
   "cell_type": "markdown",
   "metadata": {},
   "source": [
    "Observa también cómo ha sido necesario poner `try` dentro del bloque de código de `map`. Es necesario puesto que `from(letter:)` puede lanzar una excepción.\n",
    "\n",
    "En lugar de hacer el `map` siempre que lo necesitemos, vamos a hacer una extensión de `String` para mayor conveniencia. La siguiente función transforma una variable de tipo `String` en el array de colores asociado, siempre que sea posible. Si el `String` contiene caracteres que no representan colores, se lanzará una excepción:"
   ]
  },
  {
   "cell_type": "code",
   "execution_count": 16,
   "metadata": {},
   "outputs": [],
   "source": [
    "extension String {\n",
    "    func toMasterMindColorCombination() throws -> [MasterMindColor] {\n",
    "        return try self.map { try MasterMindColor.from(letter: $0) }\n",
    "    }\n",
    "}"
   ]
  },
  {
   "cell_type": "code",
   "execution_count": 17,
   "metadata": {},
   "outputs": [
    {
     "name": "stdout",
     "output_type": "stream",
     "text": [
      "[🔴, 🟢, 🔵, ⚫]\r\n"
     ]
    }
   ],
   "source": [
    "print(\"rgbk\".toMasterMindColorCombination())"
   ]
  },
  {
   "cell_type": "code",
   "execution_count": 18,
   "metadata": {},
   "outputs": [
    {
     "name": "stdout",
     "output_type": "stream",
     "text": [
      "Error\r\n"
     ]
    }
   ],
   "source": [
    "do {\n",
    "    try print(\"kskej\".toMasterMindColorCombination())\n",
    "} catch {\n",
    "    print(\"Error\")\n",
    "}"
   ]
  },
  {
   "cell_type": "markdown",
   "metadata": {},
   "source": [
    "**Nota**: observa cuidadosamente los detalles de la implementación. Hemos tenido que poner `try` dentro del bloque que se ejecuta dentro de `map`, como hemos indicado más arriba. Pero también hemos tenido que ponerlo antes de llamar a `self.map`. Esto es así porque si el bloque lanza una excepción, entonces `self.map` también lo hará."
   ]
  },
  {
   "cell_type": "markdown",
   "metadata": {},
   "source": [
    "**Experimenta** quitando el primer `try` y observa lo que pasa."
   ]
  },
  {
   "cell_type": "code",
   "execution_count": null,
   "metadata": {},
   "outputs": [],
   "source": []
  },
  {
   "cell_type": "markdown",
   "metadata": {},
   "source": [
    "### Ejercicio 2: versión inicial de `MasterMindGame`"
   ]
  },
  {
   "cell_type": "markdown",
   "metadata": {},
   "source": [
    "Con lo anterior ya tenemos los bloques suficientes para empezar a engarzar un juego de MasterMind.\n",
    "\n",
    "La celda siguiente contiene tan sólo el esqueleto de un `struct` que modela una partida de MasterMind. Tenemos las siguientes variables:\n",
    "* `secretCode` es una variable privada en la que almacenaremos el código secreto que hay que adivinar.\n",
    "* `maxTurns` es una constante con el número máximo de turnos, que vamos a fijar en 10.\n",
    "* `currentTurn` contendrá el número de turno que estamos jugando. La utilizaremos dentro de unas celdas."
   ]
  },
  {
   "cell_type": "code",
   "execution_count": 19,
   "metadata": {},
   "outputs": [],
   "source": [
    "struct MasterMindGame {\n",
    "    private let secretCode: [MasterMindColor]\n",
    "    \n",
    "    let maxTurns = 10\n",
    "    var currentTurn = 0\n",
    "    \n",
    "    static func randomCode(colors: Int) -> [MasterMindColor] {\n",
    "        // Your code here.\n",
    "        // Elimina la siguiente línea y sustitúyela por tu implementación.\n",
    "        return try! \"🔴🟡⚪🔴\".toMasterMindColorCombination()\n",
    "    }\n",
    "    \n",
    "    init(_ secretCode: String? = nil) {\n",
    "        // Your code here.\n",
    "        // Elimina la siguiente línea y sustitúyela por tu implementación.\n",
    "        self.secretCode = MasterMindGame.randomCode(colors: 4)\n",
    "    }\n",
    "}"
   ]
  },
  {
   "cell_type": "markdown",
   "metadata": {},
   "source": [
    "Se pide:\n",
    "\n",
    "1. **En primer lugar, implementa `randomCode`** para obtener una combinación aleatoria del número de posiciones que se le indica en el argumento `colors`. Es decir, si `colors` es 4, esa función devolverá un array de 4 `MasterMindColor` seleccionados de entre todos los posibles.\n",
    "\n",
    "Para hacer esta función, puedes apoyarte en el método `randomElement()` de la clase `Array`, que lo que hace es obtener un elemento cualquiera del array. Por ejemplo:"
   ]
  },
  {
   "cell_type": "code",
   "execution_count": 20,
   "metadata": {},
   "outputs": [
    {
     "name": "stdout",
     "output_type": "stream",
     "text": [
      "Optional(\"probando\")\r\n"
     ]
    }
   ],
   "source": [
    "let testArray = [\"one\", \"two\", \"three\", \"probando\", \"probando\"]\n",
    "print(testArray.randomElement())"
   ]
  },
  {
   "cell_type": "markdown",
   "metadata": {},
   "source": [
    "**Importante**: `randomElement()` devuelve un opcional, porque podría darse el caso que el array estuviera vacío. Si así fuera, `randomElement()` devolvería `nil`."
   ]
  },
  {
   "cell_type": "markdown",
   "metadata": {},
   "source": [
    "Puedes usar o no `randomElement()`, a tu criterio."
   ]
  },
  {
   "cell_type": "markdown",
   "metadata": {},
   "source": [
    "2. **En segundo lugar, implementa `init`** para que funcione del siguiente modo:\n",
    "* Si no se le pasa ningún parámetro, se generará una combinación aleatoria de 4 colores utilizando `randomCode`. Esta será la forma habitual de crear una nueva partida. Observa que `randomCode` es estática, por lo que hay que invocarla utilizando `MasterMindGame.randomCode`.\n",
    "* Si se le pasa un `String`, `init` intentará convertirlo a un array de colores, utilizando para ello la función `toMasterMindColorCombination()` que hemos definido antes.\n",
    "  * Si la conversión es correcta, el array de colores será nuestro código secreto.\n",
    "  * Si la conversión falla, generaremos una combinación aleatoria de 4 colores.\n",
    "  Esta versión de `init` está pensada para ayudarnos a probar cuando estemos probando el juego. Suministrando una clave conocido podremos verificar más fácilmente las funciones que iremos implementando después."
   ]
  },
  {
   "cell_type": "markdown",
   "metadata": {},
   "source": [
    "Las siguientes celdas te ayudarán a verificar si el comportamiento es correcto. Como en el anterior ejercicio, no deben imprimir nada si todo es correcto."
   ]
  },
  {
   "cell_type": "code",
   "execution_count": null,
   "metadata": {},
   "outputs": [],
   "source": [
    "let testGame = MasterMindGame(\"RGBK\")\n",
    "if testGame.secretCode != [.red, .green, .blue, .black] {\n",
    "    print(\"Error al crear una partida con una combinación concreta.\")\n",
    "}\n",
    "\n",
    "var gamesAreAllTheSame = true\n",
    "for g in 0...5 {\n",
    "    let game1 = MasterMindGame()\n",
    "    let game2 = MasterMindGame()\n",
    "    if game1.secretCode != game2.secretCode { gamesAreAllTheSame = false }\n",
    "}\n",
    "if gamesAreAllTheSame {\n",
    "    print(\"Parece que `randomCode` está generando siempre la misma clave.\")\n",
    "}\n",
    "\n",
    "let anotherGame = MasterMindGame(\"esta cadena no es válida\")\n",
    "if anotherGame.secretCode.count != 4 {\n",
    "    print(\"La clave aleatoria debe tener 4 colores\")\n",
    "}"
   ]
  },
  {
   "cell_type": "code",
   "execution_count": 22,
   "metadata": {},
   "outputs": [
    {
     "name": "stdout",
     "output_type": "stream",
     "text": [
      "[🔴, 🟡, ⚪, 🔴]\r\n"
     ]
    }
   ],
   "source": [
    "let testGame = MasterMindGame()\n",
    "print(testGame.secretCode)"
   ]
  },
  {
   "cell_type": "code",
   "execution_count": 23,
   "metadata": {},
   "outputs": [
    {
     "name": "stdout",
     "output_type": "stream",
     "text": [
      "[🔴, 🟡, ⚪, 🔴]\r\n"
     ]
    }
   ],
   "source": [
    "let testGame = MasterMindGame(\"este codigo no es valido\")\n",
    "print(testGame.secretCode)"
   ]
  },
  {
   "cell_type": "markdown",
   "metadata": {},
   "source": [
    "## Completando `MasterMindGame`: identificando aciertos y semiaciertos"
   ]
  },
  {
   "cell_type": "markdown",
   "metadata": {},
   "source": [
    "**Ejercicio 3**\n",
    "\n",
    "Implementa `countExactMatches`, una función que debes añadir a `MasterMindGame` y que debe cumplir la siguiente especificación:\n",
    "* Debe aceptar como único argumento un array de `MasterMindColor`, que no tendrá nombre externo.\n",
    "* Debe devolver un `Int` con el número de aciertos entre la combinación indicada y el código secreto.\n",
    "* No es necesario verificar que la longitud de la clave coincide con la de la combinación que se suministra (aunque puede hacerse, si se desea)."
   ]
  },
  {
   "cell_type": "code",
   "execution_count": 24,
   "metadata": {},
   "outputs": [],
   "source": []
  },
  {
   "cell_type": "markdown",
   "metadata": {},
   "source": [
    "Como en los casos anteriores, la siguiente celda mostrará mensajes (o no compilará) si tu implementación no es correcta."
   ]
  },
  {
   "cell_type": "code",
   "execution_count": 25,
   "metadata": {},
   "outputs": [],
   "source": [
    "var testGame = MasterMindGame()\n",
    "if testGame.countExactMatches(testGame.secretCode) != testGame.secretCode.count {\n",
    "    print(\"Cuando se suministra la clave secreta, todos los colores deberían coincidir.\")\n",
    "}\n",
    "\n",
    "func compareMatches(code: String, guess: String, expected: Int) {\n",
    "    let game = MasterMindGame(code)\n",
    "    let colors = try! guess.toMasterMindColorCombination()\n",
    "    let nMatches = game.countExactMatches(colors)\n",
    "    if expected != nMatches {\n",
    "        print(\"La combinación \\(guess) debería tener \\(expected) aciertos con la clave \\(code), pero en tu código salen \\(nMatches)\")\n",
    "    }\n",
    "}\n",
    "\n",
    "compareMatches(code:\"RGGB\", guess:\"KKKK\", expected: 0)\n",
    "compareMatches(code:\"RGGB\", guess:\"GGGG\", expected: 2)\n",
    "compareMatches(code:\"RGGB\", guess:\"RBBB\", expected: 2)\n",
    "compareMatches(code:\"RGGB\", guess:\"GRRG\", expected: 0)\n",
    "compareMatches(code:\"RGGB\", guess:\"KGBY\", expected: 1)\n",
    "compareMatches(code:\"RGGB\", guess:\"GGBG\", expected: 1)\n"
   ]
  },
  {
   "cell_type": "markdown",
   "metadata": {},
   "source": [
    "---"
   ]
  },
  {
   "cell_type": "markdown",
   "metadata": {},
   "source": [
    "**Ejercicio 4**\n",
    "\n",
    "Implementa `countPartialMatches`, una función que debes añadir a `MasterMindGame`. Debe funcionar de la misma forma que `countExactMatches`, pero contando los _semiaciertos_ en lugar de los aciertos. Revisa [la definición](#Funcionamiento) si es necesario."
   ]
  },
  {
   "cell_type": "code",
   "execution_count": 26,
   "metadata": {},
   "outputs": [],
   "source": []
  },
  {
   "cell_type": "markdown",
   "metadata": {},
   "source": [
    "La siguiente celda mostrará mensajes (o no compilará) si tu implementación no es correcta."
   ]
  },
  {
   "cell_type": "code",
   "execution_count": 27,
   "metadata": {},
   "outputs": [],
   "source": [
    "func comparePartialMatches(code: String, guess: String, expected: Int) {\n",
    "    let game = MasterMindGame(code)\n",
    "    let colors = try! guess.toMasterMindColorCombination()\n",
    "    let nMatches = game.countPartialMatches(colors)\n",
    "    if expected != nMatches {\n",
    "        print(\"La combinación \\(guess) debería tener \\(expected) semiaciertos con la clave \\(code), pero en tu código salen \\(nMatches)\")\n",
    "    }\n",
    "}\n",
    "\n",
    "comparePartialMatches(code:\"RGGB\", guess:\"KKKK\", expected: 0)\n",
    "comparePartialMatches(code:\"RGGB\", guess:\"GGGG\", expected: 0)\n",
    "comparePartialMatches(code:\"RGGB\", guess:\"RBBB\", expected: 0)\n",
    "comparePartialMatches(code:\"RGGB\", guess:\"GRRG\", expected: 3)\n",
    "comparePartialMatches(code:\"RGGB\", guess:\"KGBY\", expected: 1)\n",
    "comparePartialMatches(code:\"RGGB\", guess:\"GGBG\", expected: 2)"
   ]
  },
  {
   "cell_type": "markdown",
   "metadata": {},
   "source": [
    "## Completando `MasterMindGame`: procesando el turno"
   ]
  },
  {
   "cell_type": "markdown",
   "metadata": {},
   "source": [
    "**Ejercicio 5**"
   ]
  },
  {
   "cell_type": "markdown",
   "metadata": {},
   "source": [
    "Para terminar la implementación del juego, ya sólo tenemos que implementar una función que gestione un nuevo turno. Completa el esqueleto siguiente de modo que cumpla la siguiente especificación:\n",
    "* Si la combinación indicada en `guess` no representa una combinación de colores válida, `newTurn` debe imprimir el siguiente mensaje de error y no hacer nada más: `\"Combinación incorrecta. Por favor, prueba de nuevo.\"`.\n",
    "* Si la combinación tiene un número de colores distinto al del código secreto, `newTurn` debe imprimir el siguiente mensaje de error y no hacer nada más: `\"Debes hacer una apuesta con \\(secretCode.count) colores. Por favor, prueba de nuevo.\"`.\n",
    "* Si se ha alcanzado el número máximo de turnos, o el jugador ha adivinado la clave en un turno anterior, `newTurn` debe imprimir el siguiente mensaje de error y no hacer nada más: `\"El juego ha terminado.\"`.\n",
    "* En los demás casos, `newTurn` hará lo siguiente:\n",
    "  - Sumar 1 al número de turno.\n",
    "  - Mostrar la combinación seleccionada por el usuario.\n",
    "  - Indicar el número de aciertos y semiaciertos.\n",
    "  - Si el jugador ha ganado, mostrará el mensaje `Has ganado en el turno x !`, y actualizará el estado de la partida para que no se puedan realizar más turnos.\n",
    "  - Si el jugador ha perdido, mostrará el mensaje `Lo siento, has perdido. Otra vez será.`."
   ]
  },
  {
   "cell_type": "code",
   "execution_count": 28,
   "metadata": {},
   "outputs": [],
   "source": [
    "extension MasterMindGame {\n",
    "    mutating func newTurn(_ guess: String) {\n",
    "        // Your code here\n",
    "    }\n",
    "}"
   ]
  },
  {
   "cell_type": "markdown",
   "metadata": {},
   "source": [
    "**Ejercicio 6**"
   ]
  },
  {
   "cell_type": "markdown",
   "metadata": {},
   "source": [
    "En lugar de darte nosotros el código para probar si tu implementación es correcta, en este caso debes crearlo tú mismo. Lo mejor es que leas el enunciado del Ejercicio 5, y después crees el código de prueba utilizando lo que se describe en la especificación. No necesitas que el código funcione para saber cómo tiene que funcionar. Trata de ser lo más exhaustivo posible. Guíate en el código de pruebas que hemos suministrado para los casos anteriores."
   ]
  },
  {
   "cell_type": "code",
   "execution_count": null,
   "metadata": {},
   "outputs": [],
   "source": []
  },
  {
   "cell_type": "markdown",
   "metadata": {},
   "source": [
    "----"
   ]
  },
  {
   "cell_type": "markdown",
   "metadata": {},
   "source": [
    "A continuación se muestra un ejemplo de una partida completa una vez terminada la implementación:"
   ]
  },
  {
   "cell_type": "code",
   "execution_count": 29,
   "metadata": {},
   "outputs": [],
   "source": [
    "var testGame = MasterMindGame()"
   ]
  },
  {
   "cell_type": "code",
   "execution_count": 30,
   "metadata": {},
   "outputs": [
    {
     "name": "stdout",
     "output_type": "stream",
     "text": [
      "Turno 1.\r\n",
      "Tu combinación: [🔴, 🔴, 🔵, 🔵]\r\n",
      "Aciertos: 1\r\n",
      "Semiaciertos: 1\r\n"
     ]
    }
   ],
   "source": [
    "testGame.newTurn(\"RRBB\")"
   ]
  },
  {
   "cell_type": "code",
   "execution_count": 31,
   "metadata": {},
   "outputs": [
    {
     "name": "stdout",
     "output_type": "stream",
     "text": [
      "Turno 2.\r\n",
      "Tu combinación: [🔴, 🔴, 🟢, 🟢]\r\n",
      "Aciertos: 1\r\n",
      "Semiaciertos: 1\r\n"
     ]
    }
   ],
   "source": [
    "testGame.newTurn(\"RRGG\")"
   ]
  },
  {
   "cell_type": "code",
   "execution_count": 32,
   "metadata": {},
   "outputs": [
    {
     "name": "stdout",
     "output_type": "stream",
     "text": [
      "Debes hacer una apuesta con 4 colores. Por favor, prueba de nuevo.\r\n"
     ]
    }
   ],
   "source": [
    "testGame.newTurn(\"🔴🔴🔴🔴🔴🔴🔴\")"
   ]
  },
  {
   "cell_type": "code",
   "execution_count": 33,
   "metadata": {},
   "outputs": [
    {
     "name": "stdout",
     "output_type": "stream",
     "text": [
      "Turno 3.\r\n",
      "Tu combinación: [🔵, 🔵, ⚫, ⚫]\r\n",
      "Aciertos: 0\r\n",
      "Semiaciertos: 0\r\n"
     ]
    }
   ],
   "source": [
    "testGame.newTurn(\"BBKK\")"
   ]
  },
  {
   "cell_type": "code",
   "execution_count": 34,
   "metadata": {},
   "outputs": [
    {
     "name": "stdout",
     "output_type": "stream",
     "text": [
      "Turno 4.\r\n",
      "Tu combinación: [🔴, 🟡, 🟡, 🔴]\r\n",
      "Aciertos: 3\r\n",
      "Semiaciertos: 0\r\n"
     ]
    }
   ],
   "source": [
    "testGame.newTurn(\"RYYR\")"
   ]
  },
  {
   "cell_type": "code",
   "execution_count": 35,
   "metadata": {},
   "outputs": [
    {
     "name": "stdout",
     "output_type": "stream",
     "text": [
      "Turno 5.\r\n",
      "Tu combinación: [🔴, 🟡, ⚪, 🔴]\r\n",
      "Has ganado en el turno 5!\r\n"
     ]
    }
   ],
   "source": [
    "testGame.newTurn(\"🔴🟡⚪🔴\")"
   ]
  },
  {
   "cell_type": "code",
   "execution_count": 36,
   "metadata": {},
   "outputs": [
    {
     "name": "stdout",
     "output_type": "stream",
     "text": [
      "El juego ha terminado.\r\n"
     ]
    }
   ],
   "source": [
    "testGame.newTurn(\"🔴🟡⚪🔴\")"
   ]
  },
  {
   "cell_type": "code",
   "execution_count": null,
   "metadata": {},
   "outputs": [],
   "source": []
  }
 ],
 "metadata": {
  "kernelspec": {
   "display_name": "Swift",
   "language": "swift",
   "name": "swift"
  },
  "language_info": {
   "file_extension": ".swift",
   "mimetype": "text/x-swift",
   "name": "swift",
   "version": ""
  }
 },
 "nbformat": 4,
 "nbformat_minor": 4
}
