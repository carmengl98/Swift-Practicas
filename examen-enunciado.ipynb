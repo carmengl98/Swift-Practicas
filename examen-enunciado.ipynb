{
 "cells": [
  {
   "cell_type": "markdown",
   "metadata": {},
   "source": [
    "# Examen de Informática II\n",
    "\n",
    "3 de Noviembre de 2021"
   ]
  },
  {
   "cell_type": "markdown",
   "metadata": {},
   "source": [
    "## Ejercicio 1: Fracciones\n",
    "\n",
    "En los distintos apartados de este ejercicio iremos desarrollando código para operar con fracciones o números racionales.\n",
    "\n",
    "Para comenzar, definiremos un nuevo tipo `Rational`, que será simplemente un `struct` con un numerador y un denominador:"
   ]
  },
  {
   "cell_type": "code",
   "execution_count": 1,
   "metadata": {},
   "outputs": [],
   "source": [
    "struct Rational {\n",
    "    var numerator: Int\n",
    "    var denominator: Int\n",
    "}"
   ]
  },
  {
   "cell_type": "markdown",
   "metadata": {},
   "source": [
    "Podemos crear números racionales del siguiente modo:"
   ]
  },
  {
   "cell_type": "code",
   "execution_count": 2,
   "metadata": {},
   "outputs": [
    {
     "name": "stdout",
     "output_type": "stream",
     "text": [
      "Rational(numerator: 1, denominator: 3)\r\n"
     ]
    }
   ],
   "source": [
    "let oneThird = Rational(numerator: 1, denominator: 3)\n",
    "print(oneThird)"
   ]
  },
  {
   "cell_type": "markdown",
   "metadata": {},
   "source": [
    "La variable `oneThird` representa el valor un tercio; es decir, la fracción `1` entre `3`."
   ]
  },
  {
   "cell_type": "markdown",
   "metadata": {},
   "source": [
    "Para abreviar la creación de números racionales, vamos a crear un inicializador (`init`) con argumentos anónimos, de modo que podamos escribir `Rational(1, 3)` en lugar de `Rational(numerator: 1, denominator: 3)`."
   ]
  },
  {
   "cell_type": "markdown",
   "metadata": {},
   "source": [
    "En el inicializador simplemente invocamos el inicializador por defecto que crea Swift automáticamente."
   ]
  },
  {
   "cell_type": "code",
   "execution_count": 3,
   "metadata": {},
   "outputs": [],
   "source": [
    "extension Rational {\n",
    "    init(_ numerator: Int, _ denominator: Int) {\n",
    "        self.init(numerator: numerator, denominator: denominator)\n",
    "    }\n",
    "}"
   ]
  },
  {
   "cell_type": "code",
   "execution_count": 4,
   "metadata": {},
   "outputs": [
    {
     "name": "stdout",
     "output_type": "stream",
     "text": [
      "Rational(numerator: 2, denominator: 3)\r\n"
     ]
    }
   ],
   "source": [
    "let twoThirds = Rational(2, 3)\n",
    "print(twoThirds)"
   ]
  },
  {
   "cell_type": "markdown",
   "metadata": {},
   "source": [
    "### 1.1 Crea una descripción apropiada para este tipo (0,5 puntos)"
   ]
  },
  {
   "cell_type": "markdown",
   "metadata": {},
   "source": [
    "Lo que queremos es que `print()` muestre un mensaje del tipo `2/3` en lugar de `Rational(numerator: 2, denominator: 3)`.\n",
    "\n",
    "Recuerda que debes implementarlo con una propiedad `description`, cumpliendo el protocolo `CustomStringConvertible`."
   ]
  },
  {
   "cell_type": "code",
   "execution_count": 5,
   "metadata": {},
   "outputs": [],
   "source": [
    "// Introduce tu código aquí. Puedes utilizar todas las celdas que necesites.\n",
    "extension Rational: CustomStringConvertible {\n",
    "    public var description: String { return (\"\\(self.numerator)/\\(self.denominator)\") }\n",
    "}\n"
   ]
  },
  {
   "cell_type": "markdown",
   "metadata": {},
   "source": [
    "**Ojo**: no se puede declarar varias veces la conformidad de un tipo respecto a un protocolo. Si ejecutas varias veces tu celda te podrás encontrar con un error como el siguiente:\n",
    "\n",
    "```\n",
    "error: <Cell 7>:1:21: error: redundant conformance of 'Rational' to protocol 'CustomStringConvertible'\n",
    "```\n",
    "\n",
    "Si sucede esto, reinicia el kernel y ejecuta las celdas anteriores."
   ]
  },
  {
   "cell_type": "markdown",
   "metadata": {},
   "source": [
    "La siguiente celda te ayudará a probar tu implementación. Si la celda **no imprime nada** es que las pruebas se cumplen."
   ]
  },
  {
   "cell_type": "code",
   "execution_count": 6,
   "metadata": {},
   "outputs": [],
   "source": [
    "func testDescription(_ rational: Rational, _ expected: String) {\n",
    "    if rational.description != expected {\n",
    "        print(\"Error: tu implementación muestra \\(rational.description) pero el mensaje esperado era \\(expected)\")\n",
    "    }\n",
    "}\n",
    "\n",
    "testDescription(Rational(2, 3), \"2/3\")\n",
    "testDescription(Rational(9, 8), \"9/8\")"
   ]
  },
  {
   "cell_type": "markdown",
   "metadata": {},
   "source": [
    "### 1.2. Valor de un racional como `Double` (0,5 puntos)\n",
    "\n",
    "Escribe como extensión de `Rational` una propiedad llamada **`value`** que devuelva la representación real (tipo `Double`) del número racional. Por ejemplo, para el racional `1/2`, su `value` será `0.5`."
   ]
  },
  {
   "cell_type": "code",
   "execution_count": 7,
   "metadata": {},
   "outputs": [],
   "source": [
    "// Introduce aquí tu código\n",
    "extension Rational{\n",
    "    var value : Double{\n",
    "        return Double(self.numerator) / Double(self.denominator)\n",
    "    }\n",
    "}\n"
   ]
  },
  {
   "cell_type": "markdown",
   "metadata": {},
   "source": [
    "Como viene siendo habitual, la siguiente celda realiza un par de pruebas básicas sobre el funcionamiento de `value`."
   ]
  },
  {
   "cell_type": "code",
   "execution_count": 8,
   "metadata": {},
   "outputs": [],
   "source": [
    "func testValue(_ rational: Rational, _ expected: Double) {\n",
    "    if rational.value != expected {\n",
    "        print(\"Error, el valor esperado es \\(expected), pero tu implementación devuelve: \\(rational.value)\")\n",
    "    }\n",
    "}\n",
    "\n",
    "testValue(Rational(2, 3), 2/3)\n",
    "testValue(Rational(9, 8), 9/8)"
   ]
  },
  {
   "cell_type": "markdown",
   "metadata": {},
   "source": [
    "### 1.3 Multiplicación de números racionales (1 punto)"
   ]
  },
  {
   "cell_type": "markdown",
   "metadata": {},
   "source": [
    "El resultado de multiplicar dos números racionales es otro número racional cuyo numerador es el resultado de multiplicar los numeradores de los factores, y cuyo denominador es el resultado de multiplicar los denominadores de los factores:\n",
    "\n",
    "$$\n",
    "\\frac{a}{b} \\cdot \\frac{c}{d} = \\frac{ac}{bd}\n",
    "$$"
   ]
  },
  {
   "cell_type": "markdown",
   "metadata": {},
   "source": [
    "Para multiplicar un número racional por otro haremos en una extensión una función que devuelva el resultado como un nuevo número racional, **sin modificar los valores de ninguno de los factores**. Para ver un ejemplo de uso, observa el código de la celda **`[10]`**."
   ]
  },
  {
   "cell_type": "code",
   "execution_count": 9,
   "metadata": {},
   "outputs": [],
   "source": [
    "// Introduce aquí tu código\n",
    "extension Rational{\n",
    "    func multiplied(by number: Rational) -> Rational{\n",
    "        var multiNumerator = self.numerator * number.numerator\n",
    "        var multiDenominator = self.denominator * number.denominator\n",
    "        return Rational(numerator: multiNumerator, denominator: multiDenominator)\n",
    "    } \n",
    "}\n"
   ]
  },
  {
   "cell_type": "markdown",
   "metadata": {},
   "source": [
    "La siguiente celda demuestra cómo el resultado de la multiplicación es un nuevo número racional, y los factores no se modifican al multiplicarlos:"
   ]
  },
  {
   "cell_type": "code",
   "execution_count": 10,
   "metadata": {},
   "outputs": [],
   "source": [
    "// Multiplica 1/3 x 1/2\n",
    "var oneThird = Rational(1, 3)\n",
    "var half = Rational(1, 2)\n",
    "var multiplied = oneThird.multiplied(by: half)\n",
    "\n",
    "// El resultado debe ser 1/6\n",
    "if multiplied.value != 1/6 {\n",
    "    print(\"Error, parece que la multiplicación no ha dado el resultado esperado\")\n",
    "}\n",
    "\n",
    "// Los factores no han de verse modificados\n",
    "if oneThird.value != 1/3 {\n",
    "    print(\"Error, la multiplicación debe implementarse como una operación inmutable\")\n",
    "}"
   ]
  },
  {
   "cell_type": "markdown",
   "metadata": {},
   "source": [
    "La siguiente celda realiza algunas comprobaciones adicionales."
   ]
  },
  {
   "cell_type": "code",
   "execution_count": 11,
   "metadata": {},
   "outputs": [],
   "source": [
    "func testMul(_ one: Rational, _ other: Rational, _ expected: Double) {\n",
    "    let multiplied = one.multiplied(by: other)\n",
    "    testValue(multiplied, expected)\n",
    "}\n",
    "\n",
    "// 2/3 * 3/2 -> 1\n",
    "testMul(Rational(2, 3), Rational(3, 2), 1)\n",
    "\n",
    "// 1/3 * 1/2 -> 1/6\n",
    "testMul(Rational(1, 3), Rational(1, 2), 1/6)\n",
    "\n",
    "// 2/3 * 1/2 -> 1/3\n",
    "testMul(Rational(2, 3), Rational(1, 2), 1/3)\n",
    "\n",
    "// 2/3 * 3/5 -> 2/5\n",
    "testMul(Rational(2, 3), Rational(3, 5), 2/5)"
   ]
  },
  {
   "cell_type": "markdown",
   "metadata": {},
   "source": [
    "### 1.4 Simplificación de números racionales"
   ]
  },
  {
   "cell_type": "markdown",
   "metadata": {},
   "source": [
    "Al realizar operaciones con números racionales podemos obtener fracciones que pueden ser simplificables, por ejemplo `3/9` (equivalente a `1/3`) o `4/2` (equivalente a `2/1`).\n",
    "\n",
    "Para simplificar números racionales dividimos numerador y denominador por el máximo divisor común a ambos números, que llamaremos `gcd` por sus siglas en inglés. Para calcular el máximo común divisor utilizaremos el algoritmo de Euclides recursivamente, tal como vimos en un ejemplo en clase:"
   ]
  },
  {
   "cell_type": "code",
   "execution_count": 12,
   "metadata": {},
   "outputs": [],
   "source": [
    "func gcd(_ a: Int, _ b: Int) -> Int {\n",
    "    // Consider positive numbers\n",
    "    let pa = abs(a)\n",
    "    let pb = abs(b)\n",
    "    \n",
    "    if pa == 0 { return pb }\n",
    "    if pb == 0 { return pa }\n",
    "    \n",
    "    return gcd(abs(pa - pb), min(pa, pb))\n",
    "}"
   ]
  },
  {
   "cell_type": "code",
   "execution_count": 13,
   "metadata": {},
   "outputs": [
    {
     "name": "stdout",
     "output_type": "stream",
     "text": [
      "3\r\n"
     ]
    }
   ],
   "source": [
    "print(gcd(9, 6))"
   ]
  },
  {
   "cell_type": "code",
   "execution_count": 14,
   "metadata": {},
   "outputs": [
    {
     "name": "stdout",
     "output_type": "stream",
     "text": [
      "15\r\n"
     ]
    }
   ],
   "source": [
    "print(gcd(30, 75))"
   ]
  },
  {
   "cell_type": "code",
   "execution_count": 15,
   "metadata": {},
   "outputs": [
    {
     "name": "stdout",
     "output_type": "stream",
     "text": [
      "15\r\n"
     ]
    }
   ],
   "source": [
    "print(gcd(-30, 75))"
   ]
  },
  {
   "cell_type": "markdown",
   "metadata": {},
   "source": [
    "#### Escribe una función para simplificar un número racional (1 punto)"
   ]
  },
  {
   "cell_type": "markdown",
   "metadata": {},
   "source": [
    "Tu implementación debe cumplir las siguientes condiciones:\n",
    "- Debe implementarse como una extensión de `Rational`.\n",
    "- Su nombre ha de ser `simplify()`.\n",
    "- Si la fracción es simplificable, la función debe **modificar el numerador y denominador** del número racional sobre el que se invoca, sustituyéndolos por los valores simplificados.\n",
    "- Como se ha indicado, se calculará el máximo común divisor entre numerador y denominador, y se dividirán ambos por ese número."
   ]
  },
  {
   "cell_type": "code",
   "execution_count": 48,
   "metadata": {},
   "outputs": [],
   "source": [
    "// Introduce aquí tu código\n",
    "extension Rational{\n",
    "    mutating func simplify()-> Rational{\n",
    "        var gcdNumber = gcd(self.numerator, self.denominator)\n",
    "        return Rational(numerator: (self.numerator/gcdNumber) , denominator: (self.denominator/gcdNumber))\n",
    "    }\n",
    "}\n"
   ]
  },
  {
   "cell_type": "markdown",
   "metadata": {},
   "source": [
    "Ejemplo de uso:"
   ]
  },
  {
   "cell_type": "code",
   "execution_count": 51,
   "metadata": {},
   "outputs": [
    {
     "name": "stdout",
     "output_type": "stream",
     "text": [
      "-2/5\r\n",
      "-30/75\r\n"
     ]
    }
   ],
   "source": [
    "var x = Rational(-30, 75)\n",
    "x.simplify()      //----Si hago un print en esta linea si me imprime -2/5\n",
    "print(x.simplify()) \n",
    "print(x)"
   ]
  },
  {
   "cell_type": "markdown",
   "metadata": {},
   "source": [
    "Algunas pruebas:"
   ]
  },
  {
   "cell_type": "code",
   "execution_count": 50,
   "metadata": {},
   "outputs": [
    {
     "name": "stdout",
     "output_type": "stream",
     "text": [
      "-2/5\r\n",
      "Error: se esperaba simplificar -30/75 a -2/5, pero el numerador calculado por tu función es -30\r\n",
      "Error: se esperaba simplificar -30/75 a -2/5, pero el denominador calculado por tu función es 75\r\n",
      "1/2\r\n",
      "Error: se esperaba simplificar 2/4 a 1/2, pero el numerador calculado por tu función es 2\r\n",
      "Error: se esperaba simplificar 2/4 a 1/2, pero el denominador calculado por tu función es 4\r\n"
     ]
    }
   ],
   "source": [
    "func testSimplify(number: Rational, expected: Rational) {\n",
    "    var simplified = number\n",
    "    simplified.simplify()\n",
    "    print(simplified.simplify())\n",
    "    if simplified.value != number.value {\n",
    "        print(\"Error: la simplificación da un valor diferente\")\n",
    "    }\n",
    "    if simplified.numerator != expected.numerator {\n",
    "        print(\"Error: se esperaba simplificar \\(number) a \\(expected), pero el numerador calculado por tu función es \\(simplified.numerator)\")\n",
    "    }\n",
    "    if simplified.denominator != expected.denominator {\n",
    "        print(\"Error: se esperaba simplificar \\(number) a \\(expected), pero el denominador calculado por tu función es \\(simplified.denominator)\")\n",
    "    }\n",
    "}\n",
    "\n",
    "testSimplify(number: Rational(-30, 75), expected: Rational(-2, 5))\n",
    "testSimplify(number: Rational(2, 4), expected: Rational(1, 2))"
   ]
  },
  {
   "cell_type": "markdown",
   "metadata": {},
   "source": [
    "### 1.5. Suma de números racionales\n",
    "\n",
    "La suma de dos números racionales es otro número racional cuyo denominador es el mínimo común múltiplo (`lcm`) de los denominadores de los números a sumar, lo que nos permite ajustar los numeradores y sumarlos:\n",
    "\n",
    "$$\n",
    "\\frac{a}{b} + \\frac{c}{d} = \\frac{a \\cdot \\frac{lcm(b, d)}{b} + c \\cdot \\frac{lcm(b, d)}{d}}{lcm(b, d)}\n",
    "$$\n",
    "\n",
    "donde `lcm(b, d)` representa el mínimo común múltiplo entre los denominadores `b` y `d`.\n",
    "\n",
    "**No te asustes con el tamaño de la expresión**, es la suma de fracciones que hemos hecho en el colegio toda la vida."
   ]
  },
  {
   "cell_type": "markdown",
   "metadata": {},
   "source": [
    "#### 1.5.1. Crea una función para calcular el mínimo común múltiplo de dos enteros (1 punto)"
   ]
  },
  {
   "cell_type": "markdown",
   "metadata": {},
   "source": [
    "Sabiendo que:\n",
    "\n",
    "$$\n",
    "lcm(a, b) = \\frac{|a \\cdot b|}{gcd(a, b)}\n",
    "$$"
   ]
  },
  {
   "cell_type": "markdown",
   "metadata": {},
   "source": [
    "Crea una función global llamada `lcm` que implemente la relación anterior. Recuerda que te hemos dado más arriba una implementación de `gcd`."
   ]
  },
  {
   "cell_type": "code",
   "execution_count": 23,
   "metadata": {},
   "outputs": [],
   "source": [
    "// Introduce aquí tu código\n",
    "func lcm(_ a: Int,_ b: Int) -> Int{\n",
    "    // Consider positive numbers\n",
    "    let pa = abs(a)\n",
    "    let pb = abs(b)\n",
    "    \n",
    "    if pa == 0 { return pb }\n",
    "    if pb == 0 { return pa }\n",
    "\n",
    "    return lcm(abs(pa - pb), gcd(pa, pb))\n",
    "}\n"
   ]
  },
  {
   "cell_type": "code",
   "execution_count": 24,
   "metadata": {},
   "outputs": [
    {
     "ename": "",
     "evalue": "",
     "output_type": "error",
     "traceback": [
      "error: Execution was interrupted, reason: signal SIGILL: illegal instruction operand.\nThe process has been left at the point where it was interrupted, use \"thread return -x\" to return to the state before expression evaluation.\n"
     ]
    }
   ],
   "source": [
    "func testLCM(_ a: Int, _ b: Int, expected: Int) {\n",
    "    let mcm = lcm(a, b)\n",
    "    if mcm != expected {\n",
    "        print(\"Error: se esperaba que el m.c.m. de \\(a) y \\(b) sería \\(expected), pero tu cálculo devuelve \\(mcm)\")\n",
    "    }\n",
    "}\n",
    "\n",
    "testLCM(2, 4, expected: 4)\n",
    "testLCM(2, 3, expected: 6)\n",
    "testLCM(6, 10, expected: 30)"
   ]
  },
  {
   "cell_type": "markdown",
   "metadata": {},
   "source": [
    "#### 1.5.2. Implementa la suma de dos números racionales (1 punto)\n",
    "\n",
    "En este caso se pide crear una función global llamada `add`, que acepte dos números racionales anónimos, y devuelva un número racional con el resultado de la suma, ya simplificado."
   ]
  },
  {
   "cell_type": "code",
   "execution_count": 21,
   "metadata": {},
   "outputs": [],
   "source": [
    "// Introduce aquí tu código\n",
    "func add(_ racional:Racional, _ racional:Racional)-> Rational{\n",
    "    \n",
    "}\n"
   ]
  },
  {
   "cell_type": "markdown",
   "metadata": {},
   "source": [
    "Ejemplo de uso:"
   ]
  },
  {
   "cell_type": "code",
   "execution_count": 22,
   "metadata": {},
   "outputs": [
    {
     "name": "stdout",
     "output_type": "stream",
     "text": [
      "5/6\r\n"
     ]
    }
   ],
   "source": [
    "print(add(Rational(1, 2), Rational(1, 3)))"
   ]
  },
  {
   "cell_type": "code",
   "execution_count": 23,
   "metadata": {},
   "outputs": [
    {
     "name": "stdout",
     "output_type": "stream",
     "text": [
      "1/6\r\n"
     ]
    }
   ],
   "source": [
    "print(add(Rational(1, 2), Rational(-1, 3)))"
   ]
  },
  {
   "cell_type": "markdown",
   "metadata": {},
   "source": [
    "Algunas pruebas:"
   ]
  },
  {
   "cell_type": "code",
   "execution_count": 24,
   "metadata": {},
   "outputs": [],
   "source": [
    "func testSum(_ n: Rational, _ m: Rational, expected: Rational) {\n",
    "    let sum = add(n, m)\n",
    "    if sum.numerator != expected.numerator {\n",
    "        print(\"Error: la suma de \\(n) y \\(m) debería dar \\(expected), pero tu resultado es \\(sum)\")\n",
    "    }\n",
    "    if sum.denominator != expected.denominator {\n",
    "        print(\"Error: la suma de \\(n) y \\(m) debería dar \\(expected), pero tu resultado es \\(sum)\")\n",
    "    }\n",
    "}\n",
    "\n",
    "testSum(Rational(1, 2), Rational(1, 3),  expected: Rational(5, 6))\n",
    "testSum(Rational(1, 2), Rational(-1, 3), expected: Rational(1, 6))\n",
    "testSum(Rational(1, 3), Rational(1, 4),  expected: Rational(7, 12))\n",
    "testSum(Rational(2, 3), Rational(4, 5),  expected: Rational(22, 15))"
   ]
  },
  {
   "cell_type": "markdown",
   "metadata": {},
   "source": [
    "----"
   ]
  },
  {
   "cell_type": "markdown",
   "metadata": {},
   "source": [
    "## Ejercicio 2: Piedra, Papel, Tijera"
   ]
  },
  {
   "cell_type": "markdown",
   "metadata": {},
   "source": [
    "Vamos a jugar a piedra, papel, tijera. Partimos del siguiente tipo enumerado que define las posibilidades que puede elegir cada jugador. Excepcionalmente, y por claridad, definimos en castellano los nombres de los casos del tipo."
   ]
  },
  {
   "cell_type": "code",
   "execution_count": 53,
   "metadata": {},
   "outputs": [],
   "source": [
    "enum Hand {\n",
    "    case piedra\n",
    "    case papel\n",
    "    case tijera\n",
    "}"
   ]
  },
  {
   "cell_type": "markdown",
   "metadata": {},
   "source": [
    "### 2.1. Representación de `Hand` como `String` (0.5 puntos)"
   ]
  },
  {
   "cell_type": "markdown",
   "metadata": {},
   "source": [
    "Crea una extensión de `Hand` para que al imprimir los valores del tipo enumerado se muestren los siguientes emojis:\n",
    "- `.piedra`: \"👊\"\n",
    "- `.papel` : \"✋\"\n",
    "- `.tijera`: \"✌️\"\n",
    "\n",
    "Recuerda que debes cumplir el protocolo `CustomStringConvertible` e implementar la propiedad `description`."
   ]
  },
  {
   "cell_type": "code",
   "execution_count": 54,
   "metadata": {},
   "outputs": [],
   "source": [
    "// Introduce aquí tu código\n",
    "extension Hand{\n",
    "    var emojis: String {\n",
    "        switch self {\n",
    "            case .piedra: return \"👊\"\n",
    "            case .papel : return \"✋\"\n",
    "            case .tijera: return \"T\"  //No sale el emoji\n",
    "            \n",
    "        }\n",
    "    }\n",
    "   \n",
    "}"
   ]
  },
  {
   "cell_type": "code",
   "execution_count": 55,
   "metadata": {},
   "outputs": [],
   "source": [
    "extension Hand: CustomStringConvertible {\n",
    "    public var description: String { return emojis }\n",
    "}"
   ]
  },
  {
   "cell_type": "code",
   "execution_count": 56,
   "metadata": {},
   "outputs": [
    {
     "name": "stdout",
     "output_type": "stream",
     "text": [
      "✋ vs T\r\n"
     ]
    }
   ],
   "source": [
    "let player = Hand.papel\n",
    "let opponent = Hand.tijera\n",
    "print(\"\\(player) vs \\(opponent)\")"
   ]
  },
  {
   "cell_type": "markdown",
   "metadata": {},
   "source": [
    "### 2.2. Tipo para representar el resultado de una partida (0.5 puntos)\n",
    "\n",
    "Escribe un tipo enumerado llamado `FightResult`, que contenga los valores `.victoria`, `.derrota` y `.empate`. Este tipo nos servirá para representar el resultado de un enfrentamiento o \"pelea\" entre dos valores de tipo `Hand`."
   ]
  },
  {
   "cell_type": "code",
   "execution_count": 57,
   "metadata": {},
   "outputs": [],
   "source": [
    "// Introduce aquí tu código\n",
    "\n",
    "enum FightResult{\n",
    "    case victoria\n",
    "    case derrota\n",
    "    case empate\n",
    "}"
   ]
  },
  {
   "cell_type": "markdown",
   "metadata": {},
   "source": [
    "### 2.3. Enfrentamiento (1 punto)\n",
    "\n",
    "Escribe, como una extensión de `Hand`, una función llamada `fight` que reciba como argumento una variable llamada `opponent`, de tipo `Hand`. La función devolverá uno de los valores posibles del tipo `FightResult`, para indicar si el enfrentamiento se decide para el jugador, el rival, o se salda con un empate.\n",
    "\n",
    "Examina los posibles enfrentamientos ordenadamente. Puedes, por ejemplo, usar `switch` para contemplar todas las combinaciones."
   ]
  },
  {
   "cell_type": "code",
   "execution_count": 58,
   "metadata": {},
   "outputs": [],
   "source": [
    "// Introduce aquí tu código\n",
    "extension Hand{\n",
    "    func fight(opponent: Hand) -> FightResult{\n",
    "        switch opponent{\n",
    "            case .piedra : return .victoria\n",
    "            case .papel : return .derrota\n",
    "            case .tijera : return .empate\n",
    "        }\n",
    "    }\n",
    "}\n"
   ]
  },
  {
   "cell_type": "code",
   "execution_count": 59,
   "metadata": {},
   "outputs": [],
   "source": [
    "func testFight(player: Hand, opponent: Hand, expected: FightResult) {\n",
    "    let result = player.fight(opponent: opponent)\n",
    "    if result != expected {\n",
    "        print(\"Error: \\(player) vs \\(opponent) debería resultar en \\(expected), pero tu código devuelve \\(result)\")\n",
    "    }\n",
    "}\n",
    "\n",
    "testFight(player: .piedra, opponent: .papel,  expected: .derrota)\n",
    "testFight(player: .tijera, opponent: .tijera, expected: .empate)\n",
    "testFight(player: .papel,  opponent: .piedra, expected: .victoria)"
   ]
  },
  {
   "cell_type": "markdown",
   "metadata": {},
   "source": [
    "### 2.4. Mano aleatoria (1 punto)\n",
    "\n",
    "Implementa una función estática del tipo `Hand` que genere una elección aleatoria cada vez que se invoque. Al tratarse de una función _estática_ del propio tipo `Hand` (y no de sus instancias) se utiliza con el nombre del tipo, como se muestra un par de celdas más abajo."
   ]
  },
  {
   "cell_type": "code",
   "execution_count": 60,
   "metadata": {},
   "outputs": [
    {
     "ename": "",
     "evalue": "",
     "output_type": "error",
     "traceback": [
      "error: <Cell 60>:5:26: error: argument passed to call that takes no arguments\n        print(Hand.random(in: self.piedra,self.papel,self.tijera))\n                         ^~~~~~~~~~~~~~~~~~~~~~~~~~~~~~~~~~~~~~~~\n                         \n\nerror: <Cell 60>:6:16: error: cannot convert return expression of type '[Hand]' to return type 'Hand'\n        return randomHand\n               ^~~~~~~~~~\n\n"
     ]
    }
   ],
   "source": [
    "extension Hand {\n",
    "    static func random() -> Hand {\n",
    "        // Introduce aquí tu código\n",
    "        let randomHand = [self.piedra, self.papel, self.tijera]\n",
    "        print(Hand.random(in: self.piedra,self.papel,self.tijera))\n",
    "        return randomHand\n",
    "    \n",
    "    }\n",
    "}"
   ]
  },
  {
   "cell_type": "markdown",
   "metadata": {},
   "source": [
    "Si ejecutas la siguiente celda varias veces, deberías ver que cada vez se genera una mano aleatoriamente."
   ]
  },
  {
   "cell_type": "code",
   "execution_count": 32,
   "metadata": {},
   "outputs": [
    {
     "name": "stdout",
     "output_type": "stream",
     "text": [
      "👊\r\n"
     ]
    }
   ],
   "source": [
    "print(Hand.random())"
   ]
  },
  {
   "cell_type": "markdown",
   "metadata": {},
   "source": [
    "### Partida (2 puntos)\n",
    "\n",
    "Escribe, en formato libre, una función llamada `partida()` que funcione del siguiente modo:\n",
    "- Genera un elección aleatoria para el jugador.\n",
    "- Genera una elección aleatoria para el rival.\n",
    "- Enfrenta a ambos, y muestra el resultado desde el punto de vista del primer jugador.\n",
    "\n",
    "En la última celda del notebook se muestra un ejemplo de invocación y del tipo de mensaje que se espera."
   ]
  },
  {
   "cell_type": "code",
   "execution_count": 33,
   "metadata": {},
   "outputs": [],
   "source": [
    "func partida() {\n",
    "    // Introduce aquí tu código\n",
    "    let player = Hand.random()\n",
    "    let opponent = Hand.random()    \n",
    "    print()\n",
    "    let result = player.fight(opponent: opponent)\n",
    "    var var description: String { return(\"\\(player) vs \\(opponent): \\(result)\") }\n",
    "\n",
    "\n",
    "}"
   ]
  },
  {
   "cell_type": "markdown",
   "metadata": {},
   "source": [
    "Si ejecutas la siguiente celda varias veces deberías obtener diferentes resultados."
   ]
  },
  {
   "cell_type": "code",
   "execution_count": 34,
   "metadata": {},
   "outputs": [
    {
     "name": "stdout",
     "output_type": "stream",
     "text": [
      "👊 vs ✌️: victoria\r\n"
     ]
    }
   ],
   "source": [
    "partida()"
   ]
  },
  {
   "cell_type": "markdown",
   "metadata": {},
   "source": [
    "No olvides guardar tu notebook antes de entregar (💾, o Ctrl-S)."
   ]
  },
  {
   "cell_type": "code",
   "execution_count": null,
   "metadata": {},
   "outputs": [],
   "source": []
  }
 ],
 "metadata": {
  "kernelspec": {
   "display_name": "Swift",
   "language": "swift",
   "name": "swift"
  },
  "language_info": {
   "file_extension": ".swift",
   "mimetype": "text/x-swift",
   "name": "swift",
   "version": ""
  }
 },
 "nbformat": 4,
 "nbformat_minor": 4
}
